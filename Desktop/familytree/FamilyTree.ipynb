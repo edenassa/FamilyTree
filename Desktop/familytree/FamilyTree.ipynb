{
 "cells": [
  {
   "cell_type": "code",
   "execution_count": null,
   "metadata": {},
   "outputs": [],
   "source": [
    "#Family Tree Creator - Create a class called Person which will have a name, when they were born and when if they are alive or nor . \n",
    "#Allows the user to create these Person classes and put them into a family tree structure. Print out the tree to the screen."
   ]
  },
  {
   "cell_type": "code",
   "execution_count": null,
   "metadata": {},
   "outputs": [],
   "source": [
    "class Person:\n",
    "    \n",
    "    def __init__(self,name,date_of_birth,alive):\n",
    "        self.name = name\n",
    "        self.date_of_birth = date_of_birth\n",
    "        self.alive = alive\n",
    "        \n",
    "    def __str__(self):\n",
    "        return str(self.__dict__)\n",
    "    \n",
    "#Using the @classmethod decorator.\n",
    "#The function gets the user input and supplies it to the __init__ function.  \n",
    "    \n",
    "    @classmethod\n",
    "    def questions(self):\n",
    "        name = input(\"What is his/her name: \")\n",
    "        date_of_birth = input(\"When did he/she born? example:05/20/1991 \")\n",
    "        alive = input(\"Does he/she alive(Yes/No)? \")\n",
    "        if alive[0].lower() == 'y' or alive[0].lower() == 'n':\n",
    "            print(\"Person added successfully\")\n",
    "        else:\n",
    "            print(\"alive must be yes/no \")\n",
    "            alive = input(\"Does he/she alive(Yes/No)? \")\n",
    "        return self(name,date_of_birth,alive)\n",
    "            \n",
    "                \n",
    "                \n",
    "                    \n",
    "        \n",
    "        \n",
    "        \n",
    "    "
   ]
  },
  {
   "cell_type": "code",
   "execution_count": null,
   "metadata": {},
   "outputs": [],
   "source": [
    "def have_spouse():\n",
    "    have_spouse = input(\"Does he/she has a spouse(Yes/No)?\")\n",
    "    if have_spouse[0].lower() == 'y' or have_spouse[0].lower() == 'n' :\n",
    "        pass\n",
    "    else:\n",
    "        print(\"Please type Yes/No\")\n",
    "        have_spouse = input(\"Does he/she has a spouse(Yes/No)?\")\n",
    "    return have_spouse\n",
    "                    \n",
    "    "
   ]
  },
  {
   "cell_type": "code",
   "execution_count": null,
   "metadata": {},
   "outputs": [],
   "source": [
    "#Creating a new familiy and defining the first person\n",
    "tree_couple = {}\n",
    "tree_kids = {}\n",
    "family = []\n",
    "person = Person.questions()\n",
    "family.append(person)\n",
    "k1 = person.name\n",
    "spouse = have_spouse()\n",
    "while spouse[0].lower() == 'y':\n",
    "    person = Person.questions()\n",
    "    family.append(person)\n",
    "    v1 = person.name\n",
    "    tree.update({k1:v1}) #creating the first couple of the tree\n",
    "    kids_counter = 0\n",
    "    have_kids = input(\"Do they have kids together?(Yes/No)\")\n",
    "    if have_kids[0].lower()== 'y':\n",
    "        try:\n",
    "            kids_counter = int(input(\"How many kids they have? example(one=1 etc..)\"))\n",
    "        except:\n",
    "            print(\"You must write a number\")\n",
    "            kids_counter = int(input(\"How many kids they have? example(one=1 etc..)\"))\n",
    "        \n",
    "        while int(kids_counter)>0:\n",
    "            person = Person.questions()\n",
    "            spouse = have_spouse()\n",
    "            family.append(person)\n",
    "            kids_counter -= 1\n",
    "            if spouse[0].lower() == 'n'and kids_counter >= 1:\n",
    "                print(\"Moving to the next kid\")\n",
    "    else:\n",
    "        break\n",
    "print(\"Thank you.\")\n",
    "\n",
    "            "
   ]
  },
  {
   "cell_type": "code",
   "execution_count": null,
   "metadata": {},
   "outputs": [],
   "source": [
    "for element in family:\n",
    "    print(element)"
   ]
  }
 ],
 "metadata": {
  "kernelspec": {
   "display_name": "Python 3",
   "language": "python",
   "name": "python3"
  },
  "language_info": {
   "codemirror_mode": {
    "name": "ipython",
    "version": 3
   },
   "file_extension": ".py",
   "mimetype": "text/x-python",
   "name": "python",
   "nbconvert_exporter": "python",
   "pygments_lexer": "ipython3",
   "version": "3.7.6"
  }
 },
 "nbformat": 4,
 "nbformat_minor": 4
}
