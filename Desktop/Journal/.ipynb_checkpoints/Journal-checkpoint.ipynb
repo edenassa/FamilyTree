{
 "cells": [
  {
   "cell_type": "code",
   "execution_count": 12,
   "metadata": {},
   "outputs": [],
   "source": [
    "from datetime import datetime\n"
   ]
  },
  {
   "cell_type": "code",
   "execution_count": 13,
   "metadata": {},
   "outputs": [],
   "source": [
    "def journalist_name():\n",
    "    name = input(\"Hi,what is your name? \")\n",
    "    return name\n",
    "journal = []"
   ]
  },
  {
   "cell_type": "code",
   "execution_count": 14,
   "metadata": {},
   "outputs": [
    {
     "name": "stdout",
     "output_type": "stream",
     "text": [
      "Hi,what is your name? eden\n",
      "Hi eden :)\n",
      "How are you today?Good\n",
      "What are the good things that u did today?I meditated\n",
      "Anything other that you would like to share?nope\n",
      "2020-04-14 12:52:07.914002\n"
     ]
    }
   ],
   "source": [
    "\n",
    "print(f'Hi {journalist_name()} :)')\n",
    "mood = input(\"How are you today?\")\n",
    "good_actions = input(\"What are the good things that u did today?\")\n",
    "\n",
    "other = input(\"Anything other that you would like to share?\")\n",
    "\n",
    "\n",
    "now = datetime.now()\n",
    "\n",
    "dt_object1 = datetime.timestamp(now)\n",
    "timestamp = dt_object1\n",
    "dt_object2 = datetime.fromtimestamp(timestamp)\n",
    "dt_object2.\n",
    "print(dt_object2\"/n\"datetime.date )"
   ]
  },
  {
   "cell_type": "code",
   "execution_count": 21,
   "metadata": {},
   "outputs": [
    {
     "ename": "TypeError",
     "evalue": "descriptor 'date' of 'datetime.datetime' object needs an argument",
     "output_type": "error",
     "traceback": [
      "\u001b[0;31m---------------------------------------------------------------------------\u001b[0m",
      "\u001b[0;31mTypeError\u001b[0m                                 Traceback (most recent call last)",
      "\u001b[0;32m<ipython-input-21-70964af95ad5>\u001b[0m in \u001b[0;36m<module>\u001b[0;34m\u001b[0m\n\u001b[0;32m----> 1\u001b[0;31m \u001b[0md\u001b[0m \u001b[0;34m=\u001b[0m \u001b[0mdatetime\u001b[0m\u001b[0;34m.\u001b[0m\u001b[0mdate\u001b[0m\u001b[0;34m(\u001b[0m\u001b[0;34m)\u001b[0m\u001b[0;34m\u001b[0m\u001b[0;34m\u001b[0m\u001b[0m\n\u001b[0m\u001b[1;32m      2\u001b[0m \u001b[0mdt3\u001b[0m \u001b[0;34m=\u001b[0m \u001b[0mdatetime\u001b[0m\u001b[0;34m.\u001b[0m\u001b[0mtimestamp\u001b[0m\u001b[0;34m(\u001b[0m\u001b[0md\u001b[0m\u001b[0;34m)\u001b[0m\u001b[0;34m\u001b[0m\u001b[0;34m\u001b[0m\u001b[0m\n",
      "\u001b[0;31mTypeError\u001b[0m: descriptor 'date' of 'datetime.datetime' object needs an argument"
     ]
    }
   ],
   "source": [
    "d = datetime.date()\n",
    "dt3 = datetime.timestamp(d)"
   ]
  },
  {
   "cell_type": "code",
   "execution_count": 18,
   "metadata": {},
   "outputs": [
    {
     "name": "stdout",
     "output_type": "stream",
     "text": [
      "<method 'date' of 'datetime.datetime' objects>\n"
     ]
    }
   ],
   "source": [
    "print(dt3)"
   ]
  },
  {
   "cell_type": "code",
   "execution_count": null,
   "metadata": {},
   "outputs": [],
   "source": [
    "\n",
    "journal.append(dt_object2)\n",
    "journal.append(mood)\n",
    "journal.append(good_actions)\n",
    "if other[0].lower() != 'n':\n",
    "    journal.append(other)\n",
    "else:\n",
    "    journal.append('none')\n"
   ]
  },
  {
   "cell_type": "code",
   "execution_count": null,
   "metadata": {},
   "outputs": [],
   "source": [
    "for element in journal:\n",
    "    print(element)"
   ]
  },
  {
   "cell_type": "code",
   "execution_count": null,
   "metadata": {},
   "outputs": [],
   "source": [
    "from pandas import DataFrame\n",
    "l1 = journal\n",
    "l2 = ['Time','Mood','Good actions','Other']\n",
    "df = DataFrame({'Notes': l1, 'Categories': l2})\n",
    "df.to_excel('Journal.xlsx', sheet_name='sheet1', index=False)"
   ]
  },
  {
   "cell_type": "code",
   "execution_count": null,
   "metadata": {},
   "outputs": [],
   "source": []
  },
  {
   "cell_type": "code",
   "execution_count": null,
   "metadata": {},
   "outputs": [],
   "source": []
  }
 ],
 "metadata": {
  "kernelspec": {
   "display_name": "Python 3",
   "language": "python",
   "name": "python3"
  },
  "language_info": {
   "codemirror_mode": {
    "name": "ipython",
    "version": 3
   },
   "file_extension": ".py",
   "mimetype": "text/x-python",
   "name": "python",
   "nbconvert_exporter": "python",
   "pygments_lexer": "ipython3",
   "version": "3.7.6"
  }
 },
 "nbformat": 4,
 "nbformat_minor": 4
}
